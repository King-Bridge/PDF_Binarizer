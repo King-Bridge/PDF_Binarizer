{
 "cells": [
  {
   "cell_type": "code",
   "execution_count": 14,
   "metadata": {},
   "outputs": [],
   "source": [
    "from PIL import Image\n",
    "from pdf2image import convert_from_path\n",
    "import cv2\n",
    "import numpy as np\n",
    "import os\n",
    "import glob\n",
    "import img2pdf\n",
    "import shutil"
   ]
  },
  {
   "cell_type": "code",
   "execution_count": 15,
   "metadata": {},
   "outputs": [],
   "source": [
    "# 将pdf文件转为图像\n",
    "pages = convert_from_path('test.pdf')"
   ]
  },
  {
   "cell_type": "code",
   "execution_count": 16,
   "metadata": {},
   "outputs": [],
   "source": [
    "# 循环遍历所有页面并保存为图像文件\n",
    "os.makedirs('img/raw_img')\n",
    "for i, page in enumerate(pages):\n",
    "    save_path = 'img/raw_img/'+str(i)+'.png'\n",
    "    page.save(save_path, 'PNG')"
   ]
  },
  {
   "cell_type": "code",
   "execution_count": 17,
   "metadata": {},
   "outputs": [],
   "source": [
    "threshold = 0.5"
   ]
  },
  {
   "cell_type": "code",
   "execution_count": 18,
   "metadata": {},
   "outputs": [],
   "source": [
    "os.makedirs('img/bin_img')\n",
    "for i in range (len(pages)):\n",
    "    load_path = 'img/raw_img/'+str(i)+'.png'\n",
    "    img = cv2.imread(load_path, cv2.IMREAD_GRAYSCALE)\n",
    "    thres, binarized_img = cv2.threshold(img,threshold*255,255,cv2.THRESH_BINARY)\n",
    "    save_path = 'img/bin_img/'+str(i)+'.png'\n",
    "    cv2.imwrite(save_path,binarized_img)\n"
   ]
  },
  {
   "cell_type": "code",
   "execution_count": 19,
   "metadata": {},
   "outputs": [],
   "source": [
    "# 将多个图像文件合并为一个PDF文件\n",
    "def images_to_pdf(input_folder, output_path):\n",
    "    # 获取所有图像文件\n",
    "    image_files = sorted(glob.glob(os.path.join(input_folder, '*.png')))\n",
    "    # 将图像文件转换为PDF文档\n",
    "    with open(output_path, 'wb') as f:\n",
    "        f.write(img2pdf.convert(image_files))\n",
    "\n",
    "# 示例用法\n",
    "input_folder = 'img/bin_img/'\n",
    "output_path = 'output.pdf'\n",
    "images_to_pdf(input_folder, output_path)\n",
    "shutil.rmtree('img')\n"
   ]
  }
 ],
 "metadata": {
  "kernelspec": {
   "display_name": "Python 3.9.12 64-bit ('Anaconda3')",
   "language": "python",
   "name": "python3"
  },
  "language_info": {
   "codemirror_mode": {
    "name": "ipython",
    "version": 3
   },
   "file_extension": ".py",
   "mimetype": "text/x-python",
   "name": "python",
   "nbconvert_exporter": "python",
   "pygments_lexer": "ipython3",
   "version": "3.9.12"
  },
  "orig_nbformat": 4,
  "vscode": {
   "interpreter": {
    "hash": "8273e0105832e127bf5f29c224e220bda5082b1a9e40a49ef612b238a5868029"
   }
  }
 },
 "nbformat": 4,
 "nbformat_minor": 2
}
